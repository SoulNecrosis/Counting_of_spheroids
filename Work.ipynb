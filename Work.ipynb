{
 "cells": [
  {
   "attachments": {},
   "cell_type": "markdown",
   "metadata": {},
   "source": [
    "Для работы с изображениями мы использовали библиотеку Pillow."
   ]
  },
  {
   "cell_type": "code",
   "execution_count": null,
   "metadata": {},
   "outputs": [],
   "source": [
    "from PIL import Image, ImageOps, ImageEnhance\n",
    "import os"
   ]
  },
  {
   "attachments": {},
   "cell_type": "markdown",
   "metadata": {},
   "source": [
    "После сбора изображений, сперва мы изменили их, повернув на 90 и 180 градусов, а также отзеркалили изображения."
   ]
  },
  {
   "cell_type": "code",
   "execution_count": null,
   "metadata": {},
   "outputs": [],
   "source": [
    "# set the directory where the images are located\n",
    "directory = \"C:/images\"\n",
    "\n",
    "# loop through each file in the directory\n",
    "for filename in os.listdir(directory):\n",
    "    if filename.endswith(\".png\"):\n",
    "        img = Image.open(os.path.join(directory, filename))\n",
    "        img = img.convert(\"RGBA\")\n",
    "\n",
    "        img_rotated_90 = img.rotate(90)\n",
    "        img_rotated_90.save(os.path.join(directory, f\"{filename[:-4]}_rotated_90.png\"))\n",
    "\n",
    "        img_rotated_180 = img.rotate(180)\n",
    "        img_rotated_180.save(os.path.join(directory, f\"{filename[:-4]}_rotated_180.png\"))\n",
    "        \n",
    "        img_mirror = ImageOps.mirror(img)\n",
    "        img_mirror.save(os.path.join(directory, f\"{filename[:-4]}_mirror.png\"))\n",
    "\n",
    "img.close()"
   ]
  },
  {
   "attachments": {},
   "cell_type": "markdown",
   "metadata": {},
   "source": [
    "После этого мы корректировали резкоссть и размытость для получившихся изображений.\n",
    "\n",
    "По итогу мы получили датасет, состоящий из 1026 изображений."
   ]
  },
  {
   "cell_type": "code",
   "execution_count": null,
   "metadata": {},
   "outputs": [],
   "source": [
    "x = \"1_all_90\" #название файла\n",
    "im = Image.open(\"/Coding/images_of_spheroids/\" + x + \".png\") #путь к файлу\n",
    "enchancer = ImageEnhance.Sharpness(im)\n",
    "\n",
    "factor = 0.05 #коэффициент резкости\n",
    "im_s_1 = enchancer.enhance(factor)\n",
    "im_s_1.save(x + '_blur.png');\n",
    "\n",
    "factor = 2 #коэффициент резкости\n",
    "im_s_1 = enchancer.enhance(factor)\n",
    "im_s_1.save(x + '_sharp.png');"
   ]
  }
 ],
 "metadata": {
  "language_info": {
   "name": "python"
  },
  "orig_nbformat": 4
 },
 "nbformat": 4,
 "nbformat_minor": 2
}
